{
  "nbformat": 4,
  "nbformat_minor": 0,
  "metadata": {
    "colab": {
      "provenance": []
    },
    "kernelspec": {
      "name": "python3",
      "display_name": "Python 3"
    },
    "language_info": {
      "name": "python"
    }
  },
  "cells": [
    {
      "cell_type": "code",
      "source": [
        "!pip install scikit-surprise"
      ],
      "metadata": {
        "colab": {
          "base_uri": "https://localhost:8080/"
        },
        "id": "5BPNHzBjHxWe",
        "outputId": "e31a5252-e16c-44ef-b919-3a531ca324a8"
      },
      "execution_count": null,
      "outputs": [
        {
          "output_type": "stream",
          "name": "stdout",
          "text": [
            "Requirement already satisfied: scikit-surprise in /usr/local/lib/python3.11/dist-packages (1.1.4)\n",
            "Requirement already satisfied: joblib>=1.2.0 in /usr/local/lib/python3.11/dist-packages (from scikit-surprise) (1.4.2)\n",
            "Requirement already satisfied: numpy>=1.19.5 in /usr/local/lib/python3.11/dist-packages (from scikit-surprise) (1.26.4)\n",
            "Requirement already satisfied: scipy>=1.6.0 in /usr/local/lib/python3.11/dist-packages (from scikit-surprise) (1.14.1)\n"
          ]
        }
      ]
    },
    {
      "cell_type": "code",
      "source": [
        "!pip install numpy==1.26.4\n",
        "!pip install --no-cache-dir scikit-surprise"
      ],
      "metadata": {
        "colab": {
          "base_uri": "https://localhost:8080/"
        },
        "id": "yygZDsEfIVKX",
        "outputId": "2fff516a-505b-4595-82bf-1948acaac15c"
      },
      "execution_count": null,
      "outputs": [
        {
          "output_type": "stream",
          "name": "stdout",
          "text": [
            "Requirement already satisfied: numpy==1.26.4 in /usr/local/lib/python3.11/dist-packages (1.26.4)\n",
            "Requirement already satisfied: scikit-surprise in /usr/local/lib/python3.11/dist-packages (1.1.4)\n",
            "Requirement already satisfied: joblib>=1.2.0 in /usr/local/lib/python3.11/dist-packages (from scikit-surprise) (1.4.2)\n",
            "Requirement already satisfied: numpy>=1.19.5 in /usr/local/lib/python3.11/dist-packages (from scikit-surprise) (1.26.4)\n",
            "Requirement already satisfied: scipy>=1.6.0 in /usr/local/lib/python3.11/dist-packages (from scikit-surprise) (1.14.1)\n"
          ]
        }
      ]
    },
    {
      "cell_type": "code",
      "source": [
        "import pandas as pd\n",
        "from surprise import Reader, Dataset, SVD\n",
        "from surprise.model_selection import train_test_split\n",
        "from surprise import accuracy\n",
        "\n",
        "df = pd.read_csv('/content/drive/MyDrive/Colab Notebooks/Datasets/aqi_suggested_activities_updated.csv')\n",
        "\n",
        "# Convert AQI category to numerical rating based on actual AQI ranges\n",
        "# Here, we'll use the upper boundary of each AQI range to represent the AQI rating\n",
        "aqi_rating_map = {\n",
        "    'Good': 50,  # 0-50\n",
        "    'Moderate': 100,  # 51-100\n",
        "    'Unhealthy for Sensitive Groups': 150,  # 101-150\n",
        "    'Unhealthy': 200,  # 151-200\n",
        "    'Very Unhealthy': 300,  # 201-300\n",
        "    'Hazardous': 500  # 301-500\n",
        "}\n",
        "df[\"Rating\"] = df[\"AQI_Category\"].map(aqi_rating_map)\n",
        "\n",
        "# Remove the AQI_Category column as per your request\n",
        "df.drop(columns=[\"AQI_Category\"], inplace=True)\n",
        "\n",
        "# Rename columns to fit Surprise format\n",
        "df.rename(columns={\n",
        "    \"Age\": \"User\",  # Age is now numerical, used as 'User'\n",
        "    \"Time_of_Day\": \"Item\"  # Time_of_Day is now numerical, used as 'Item'\n",
        "}, inplace=True)\n",
        "\n",
        "# Define Surprise Reader (adjust rating scale if needed)\n",
        "reader = Reader(rating_scale=(0, 500))  # Rating scale based on actual AQI values\n",
        "\n",
        "# Load dataset into Surprise\n",
        "data = Dataset.load_from_df(df[[\"User\", \"Item\", \"Rating\"]], reader)\n",
        "\n",
        "# Split data into training and testing sets\n",
        "trainset, testset = train_test_split(data, test_size=0.2, random_state=42)\n",
        "\n",
        "# Train SVD Model\n",
        "model = SVD()\n",
        "model.fit(trainset)\n",
        "\n",
        "# Evaluate Model\n",
        "predictions = model.test(testset)\n",
        "print(f\"RMSE: {accuracy.rmse(predictions)}\")\n",
        "print(f\"MAE: {accuracy.mae(predictions)}\")\n",
        "\n",
        "# Function to Recommend the Best Activity\n",
        "def recommend_activity(user_age, time_of_day, df):\n",
        "    # Predict ratings for all activities\n",
        "    activity_scores = {}\n",
        "    for activity in df[\"Suggested_Activity\"].unique():\n",
        "        # Predict rating for given user_age and time_of_day\n",
        "        pred = model.predict(user_age, time_of_day).est  # Predict rating based on user and item\n",
        "        activity_scores[activity] = pred\n",
        "\n",
        "    # Get the best-rated activity\n",
        "    best_activity = max(activity_scores, key=activity_scores.get)\n",
        "    return best_activity\n"
      ],
      "metadata": {
        "colab": {
          "base_uri": "https://localhost:8080/"
        },
        "id": "thpPEX3rYxvx",
        "outputId": "65c5397b-da05-4f60-a617-1af1765da958"
      },
      "execution_count": null,
      "outputs": [
        {
          "output_type": "stream",
          "name": "stdout",
          "text": [
            "RMSE: 222.1154\n",
            "RMSE: 222.11539793539754\n",
            "MAE:  135.5350\n",
            "MAE: 135.535\n"
          ]
        }
      ]
    },
    {
      "cell_type": "code",
      "source": [
        "# Example1 Input\n",
        "user_age = 30  # Example age (numerical)\n",
        "time_of_day = 9  # Time of day (numerical, e.g., 9 AM -> morning, 14 -> afternoon)\n",
        "aqi_level = 2  # AQI category (corresponding to \"Moderate\")\n",
        "\n",
        "# Get Recommendation\n",
        "recommended_activity = recommend_activity(user_age, time_of_day, df)\n",
        "print(f\"Recommended Activity for Age {user_age}, Time {time_of_day}, AQI {aqi_level}: {recommended_activity}\")"
      ],
      "metadata": {
        "colab": {
          "base_uri": "https://localhost:8080/"
        },
        "id": "n_oinbmPPuT-",
        "outputId": "2cb2ad78-6777-4832-a9ad-1397d4ca18eb"
      },
      "execution_count": null,
      "outputs": [
        {
          "output_type": "stream",
          "name": "stdout",
          "text": [
            "Recommended Activity for Age 30, Time 9, AQI 2: Stay indoors\n"
          ]
        }
      ]
    },
    {
      "cell_type": "code",
      "source": [
        "# Example2 Input\n",
        "user_age2 = 20  # Example age (numerical)\n",
        "time_of_day2 = 12  # Time of day (numerical, e.g., 9 AM -> morning, 14 -> afternoon)\n",
        "aqi_level2 = 200  # AQI category (corresponding to \"Moderate\")\n",
        "\n",
        "# Get Recommendation\n",
        "recommended_activity = recommend_activity(user_age2, time_of_day2, df)\n",
        "print(f\"Recommended Activity for Age {user_age2}, Time {time_of_day2}, AQI {aqi_level2}: {recommended_activity}\")"
      ],
      "metadata": {
        "colab": {
          "base_uri": "https://localhost:8080/"
        },
        "id": "M7o1e0IDPmf8",
        "outputId": "e4f18396-015f-424e-b35b-b45a75c7f5ab"
      },
      "execution_count": null,
      "outputs": [
        {
          "output_type": "stream",
          "name": "stdout",
          "text": [
            "Recommended Activity for Age 20, Time 12, AQI 200: Stay indoors\n"
          ]
        }
      ]
    },
    {
      "cell_type": "code",
      "source": [
        "# Example3 Input\n",
        "user_age3 = 20  # Example age (numerical)\n",
        "time_of_day3 = 17  # Time of day (numerical, e.g., 9 AM -> morning, 14 -> afternoon)\n",
        "aqi_level3 = 450  # AQI category (corresponding to \"Moderate\")\n",
        "\n",
        "# Get Recommendation\n",
        "recommended_activity = recommend_activity(user_age3, time_of_day3, df)\n",
        "print(f\"Recommended Activity for Age {user_age3}, Time {time_of_day3}, AQI {aqi_level3}: {recommended_activity}\")"
      ],
      "metadata": {
        "colab": {
          "base_uri": "https://localhost:8080/"
        },
        "id": "kpWjf96rRAi6",
        "outputId": "17d09325-9949-47bf-f234-63139adc6ac6"
      },
      "execution_count": null,
      "outputs": [
        {
          "output_type": "stream",
          "name": "stdout",
          "text": [
            "Recommended Activity for Age 20, Time 17, AQI 450: Stay indoors\n"
          ]
        }
      ]
    },
    {
      "cell_type": "code",
      "source": [
        "# Example4 Input\n",
        "user_age4 = 20  # Example age (numerical)\n",
        "time_of_day4 = 7  # Time of day (numerical, e.g., 9 AM -> morning, 14 -> afternoon)\n",
        "aqi_level4 = 1  # AQI category (corresponding to \"Moderate\")\n",
        "\n",
        "# Get Recommendation\n",
        "recommended_activity = recommend_activity(user_age4, time_of_day4, df)\n",
        "print(f\"Recommended Activity for Age {user_age4}, Time {time_of_day4}, AQI {aqi_level4}: {recommended_activity}\")"
      ],
      "metadata": {
        "colab": {
          "base_uri": "https://localhost:8080/"
        },
        "id": "pWS9ycXxSKt8",
        "outputId": "299349ca-03cc-46dc-dee1-bd1039e64418"
      },
      "execution_count": null,
      "outputs": [
        {
          "output_type": "stream",
          "name": "stdout",
          "text": [
            "Recommended Activity for Age 20, Time 7, AQI 1: Stay indoors\n"
          ]
        }
      ]
    }
  ]
}