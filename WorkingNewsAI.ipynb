{
  "cells": [
    {
      "cell_type": "code",
      "execution_count": null,
      "metadata": {
        "colab": {
          "base_uri": "https://localhost:8080/"
        },
        "id": "lSFhoFhRSZyP",
        "outputId": "2837078d-5d26-477c-9a58-17b4583ced89"
      },
      "outputs": [
        {
          "name": "stdout",
          "output_type": "stream",
          "text": [
            "Requirement already satisfied: feedparser in /usr/local/lib/python3.11/dist-packages (6.0.11)\n",
            "Requirement already satisfied: transformers in /usr/local/lib/python3.11/dist-packages (4.50.0)\n",
            "Requirement already satisfied: sgmllib3k in /usr/local/lib/python3.11/dist-packages (from feedparser) (1.0.0)\n",
            "Requirement already satisfied: filelock in /usr/local/lib/python3.11/dist-packages (from transformers) (3.18.0)\n",
            "Requirement already satisfied: huggingface-hub<1.0,>=0.26.0 in /usr/local/lib/python3.11/dist-packages (from transformers) (0.29.3)\n",
            "Requirement already satisfied: numpy>=1.17 in /usr/local/lib/python3.11/dist-packages (from transformers) (2.0.2)\n",
            "Requirement already satisfied: packaging>=20.0 in /usr/local/lib/python3.11/dist-packages (from transformers) (24.2)\n",
            "Requirement already satisfied: pyyaml>=5.1 in /usr/local/lib/python3.11/dist-packages (from transformers) (6.0.2)\n",
            "Requirement already satisfied: regex!=2019.12.17 in /usr/local/lib/python3.11/dist-packages (from transformers) (2024.11.6)\n",
            "Requirement already satisfied: requests in /usr/local/lib/python3.11/dist-packages (from transformers) (2.32.3)\n",
            "Requirement already satisfied: tokenizers<0.22,>=0.21 in /usr/local/lib/python3.11/dist-packages (from transformers) (0.21.1)\n",
            "Requirement already satisfied: safetensors>=0.4.3 in /usr/local/lib/python3.11/dist-packages (from transformers) (0.5.3)\n",
            "Requirement already satisfied: tqdm>=4.27 in /usr/local/lib/python3.11/dist-packages (from transformers) (4.67.1)\n",
            "Requirement already satisfied: fsspec>=2023.5.0 in /usr/local/lib/python3.11/dist-packages (from huggingface-hub<1.0,>=0.26.0->transformers) (2025.3.0)\n",
            "Requirement already satisfied: typing-extensions>=3.7.4.3 in /usr/local/lib/python3.11/dist-packages (from huggingface-hub<1.0,>=0.26.0->transformers) (4.12.2)\n",
            "Requirement already satisfied: charset-normalizer<4,>=2 in /usr/local/lib/python3.11/dist-packages (from requests->transformers) (3.4.1)\n",
            "Requirement already satisfied: idna<4,>=2.5 in /usr/local/lib/python3.11/dist-packages (from requests->transformers) (3.10)\n",
            "Requirement already satisfied: urllib3<3,>=1.21.1 in /usr/local/lib/python3.11/dist-packages (from requests->transformers) (2.3.0)\n",
            "Requirement already satisfied: certifi>=2017.4.17 in /usr/local/lib/python3.11/dist-packages (from requests->transformers) (2025.1.31)\n",
            "\n",
            "🔹 Does a ‘good’ Air Quality Index rating mean it’s safe to be outdoors? - LAist\n",
            "🔗 https://news.google.com/rss/articles/CBMiY0FVX3lxTE90SUhGWjRZVHdmSW1VejRuV05LczUzbUlDMDVCUU9fVDh1czNVM3RqOTFZRTF5V1RkeWNjckVMQkdBdW1tZ2lsaFVweExEZ2pQekRyWV90aUZHaUgxd04wc201OA?oc=5\n"
          ]
        },
        {
          "name": "stderr",
          "output_type": "stream",
          "text": [
            "Device set to use cpu\n",
            "Your max_length is set to 250, but your input_length is only 176. Since this is a summarization task, where outputs shorter than the input are typically wanted, you might consider decreasing max_length manually, e.g. summarizer('...', max_length=88)\n",
            "No model was supplied, defaulted to distilbert/distilbert-base-uncased-finetuned-sst-2-english and revision 714eb0f (https://huggingface.co/distilbert/distilbert-base-uncased-finetuned-sst-2-english).\n",
            "Using a pipeline without specifying a model name and revision in production is not recommended.\n",
            "Device set to use cpu\n",
            "Device set to use cpu\n",
            "Setting `pad_token_id` to `eos_token_id`:50256 for open-end generation.\n"
          ]
        },
        {
          "name": "stdout",
          "output_type": "stream",
          "text": [
            "📝 AI Summary: Does a ‘good’ Air Quality Index rating mean it’s safe to be outdoors? LAist asks. ‘Good’ is the equivalent of ‘excellent’ or ‘very good’ in the U.S. It means the air quality is good or good enough for people to enjoy the outdoors. To read the rest of the article, click here: http://www.dailymail.co.uk/news/features/article-news-news/air-quality-index-rating-good-is-excellent-or-better-than-average-for-people-who-live-in-a-major-city-like-New York- or-Boston- City.html#storylink=cpy. To see the full article, visit the Daily Mail website.\n",
            "📊 Sentiment Analysis: POSITIVE (Confidence: 0.94)\n",
            "🔥 AI-Generated Headline: Does a ‘good’ Air Quality Index rating mean it’s safe to be outdoors? - LAist.com The question is just one more important topic for me to ponder when writing this blog. If you answered yes to one of my top two questions and are currently a member, then we should really do something big for you. Let's take a\n",
            "\n",
            "🔹 What the Air Quality Index doesn’t tell us about the air - Vox.com\n",
            "🔗 https://news.google.com/rss/articles/CBMijAFBVV95cUxNWEFVcjEzOFRKRzVrVDZWMksybDFuUDZkMHhVR2FtTWg4RjNpWWp6aDJZbUtfMW92akhka0tWNTRsZ3JqcFlITTlnR090SnduZ2UwUFM5WFhCOGV0Z1VmTmpyc20tQkhIQVhVUlE0RkZjSXR0MHR0cGdyZHdPZGhyV2w4a3gtdDk2Y0VvTA?oc=5\n"
          ]
        },
        {
          "name": "stderr",
          "output_type": "stream",
          "text": [
            "Device set to use cpu\n",
            "Your max_length is set to 250, but your input_length is only 220. Since this is a summarization task, where outputs shorter than the input are typically wanted, you might consider decreasing max_length manually, e.g. summarizer('...', max_length=110)\n",
            "No model was supplied, defaulted to distilbert/distilbert-base-uncased-finetuned-sst-2-english and revision 714eb0f (https://huggingface.co/distilbert/distilbert-base-uncased-finetuned-sst-2-english).\n",
            "Using a pipeline without specifying a model name and revision in production is not recommended.\n",
            "Device set to use cpu\n",
            "Device set to use cpu\n",
            "Setting `pad_token_id` to `eos_token_id`:50256 for open-end generation.\n"
          ]
        },
        {
          "name": "stdout",
          "output_type": "stream",
          "text": [
            "📝 AI Summary: Vox.com looks at what the Air Quality Index doesn't tell us about the air. The air quality index is based on a number of factors, including humidity and temperature. The index also takes into account air quality changes over time. For more information on the index, go to airquality index.com. For the full story, visit Vox.com/air Quality Index and go to www.vox.co.uk/air-quality- index. In the U.S., go to CNN.com’s air-quality index page.\n",
            "📊 Sentiment Analysis: NEGATIVE (Confidence: 0.99)\n",
            "🔥 AI-Generated Headline: What the Air Quality Index doesn’t tell us about the air - Vox.com, a source for the most accurate information, was founded in 2009 and is run by an array of knowledgeable engineers, academics and people with a knack for writing and editing. According to its sourcelist, its main complaint is that its focus is on air\n",
            "\n",
            "🔹 Is the Air Quality Index enough? What the AQI can — and can't — tell you about how healthy the atmosphere is. - Yahoo Life\n",
            "🔗 https://news.google.com/rss/articles/CBMi5gFBVV95cUxPM2Y0VUl1ek1TUWotN2ZMTl9ObkFlU3JCdDRXcUJWb0FEeG1xSm1IdnR0Um9EbFdzRDVIVWw3SnJXWmFxWk4zWUFpcW82X0d5NXRLMmVvVzJyZEEzWGhrR0djN2ctcTZXSHlXbjNGeWt5T1BrRTFMN190RVBBb3pvUnQxbUQtejZQMmtLWG13ZTBhcHYxNUk5SWxwbEFnWFZtVVVPOWJ4c3ZvMjMza2ZiSkNwdU9YUHZQTnJIM0lmWGwyOVNoWmYyM2lQSVlfUW5TZFNhVU5OZEVqN2pFM3pkb3FnNFBZdw?oc=5\n"
          ]
        },
        {
          "name": "stderr",
          "output_type": "stream",
          "text": [
            "Device set to use cpu\n",
            "No model was supplied, defaulted to distilbert/distilbert-base-uncased-finetuned-sst-2-english and revision 714eb0f (https://huggingface.co/distilbert/distilbert-base-uncased-finetuned-sst-2-english).\n",
            "Using a pipeline without specifying a model name and revision in production is not recommended.\n",
            "Device set to use cpu\n",
            "Device set to use cpu\n",
            "Setting `pad_token_id` to `eos_token_id`:50256 for open-end generation.\n"
          ]
        },
        {
          "name": "stdout",
          "output_type": "stream",
          "text": [
            "📝 AI Summary: Is the Air Quality Index enough? What the AQI can — and can't — tell you about how healthy the atmosphere is. The AQI is a measure of the quality of the air in a city or town. The National Aeronautics and Space Administration uses it to measure air quality in the U.S. It can also be used as a proxy for air quality elsewhere in the world. For more information, go to airquality.gov or CNN.com/AQI.\n",
            "📊 Sentiment Analysis: NEGATIVE (Confidence: 0.98)\n",
            "🔥 AI-Generated Headline: Is the Air Quality Index enough? What the AQI can — and can't — tell you about how healthy the atmosphere is. - Yahoo Life\n",
            "\n",
            "🔹 Is the air quality index actually useful right now? - NPR\n",
            "🔗 https://news.google.com/rss/articles/CBMilwFBVV95cUxQRnlGUm44enpfWUV3YkJyMzVBd2pKbmdaUi1WZDNSTFpIQ1MwbFJFeUZvcDdNZ1JRSVBMWFdJRk84UmJlVGpsOGtjeXJFSmZIZG5MdmZydmxWLWtVTU9Gd1QwQVVqMF90NmxIbFdiY2QyWlQxcDJmd0RYYUVZUkJoTnBxMTFUdEZoaEd1ankyZzhsZTBZSGJr?oc=5\n"
          ]
        },
        {
          "name": "stderr",
          "output_type": "stream",
          "text": [
            "Device set to use cpu\n",
            "Your max_length is set to 250, but your input_length is only 216. Since this is a summarization task, where outputs shorter than the input are typically wanted, you might consider decreasing max_length manually, e.g. summarizer('...', max_length=108)\n",
            "No model was supplied, defaulted to distilbert/distilbert-base-uncased-finetuned-sst-2-english and revision 714eb0f (https://huggingface.co/distilbert/distilbert-base-uncased-finetuned-sst-2-english).\n",
            "Using a pipeline without specifying a model name and revision in production is not recommended.\n",
            "Device set to use cpu\n",
            "Device set to use cpu\n",
            "Setting `pad_token_id` to `eos_token_id`:50256 for open-end generation.\n"
          ]
        },
        {
          "name": "stdout",
          "output_type": "stream",
          "text": [
            "📝 AI Summary: Is the air quality index actually useful right now? Is it even useful at all? CNN.com asked. NPR responded that the index is not useful at the moment. It's not useful to use it at all, CNN said. For more information on the index, go to: http://www.npr.org/news/features/air-quality-index-is-not-useful-at-all-right-now-it-says-CNN.html. For information on how to get the index for your area, visit: www.nlr.com/airquality.\n",
            "📊 Sentiment Analysis: NEGATIVE (Confidence: 1.00)\n",
            "🔥 AI-Generated Headline: Is the air quality index actually useful right now? - NPR\n",
            "\n",
            "\n",
            "Question: It's not that hot, isn't it?\n",
            "\n",
            "Answer: Sure. I actually used it once once when watching the air quality. It was pretty cool.\n",
            "\n",
            "Question: Would we see a big difference if people went\n",
            "\n",
            "🔹 Salt Lake City ranks among the worst for air quality in the United States - ABC4.com\n",
            "🔗 https://news.google.com/rss/articles/CBMitAFBVV95cUxOMmNVQzZwY210OHo4UDdkUWZEYnhJV2EwR0tGSUpRSDE4YUVxS0lySXoxcDFxMU5YWHVwdEZfRkdyeHZzdHFzY2tkb2VfVVA3QzhacVVLUTdYanJkQzZKYWI2Q3E5Q3BRZlpYNWZJTUFKejhaaTZVS05JRng3anQyTEFQWU4zbDNEVFVQcDQ5T1BzazMzX19tcmNqUE0taUlyZ2Z1MFYwZVhPa2VfVWo4SDBqVXjSAboBQVVfeXFMUEJyV1pfTE4tdzMyU3ZxZzhTSW1vTm1jQjNrMFRPZGJ1ZzR4RVlXaUcwWlNzb21vc0pCdFlabkNOMEs1a2JTVzBfU2pBWEdrYVJ0c3VIV3J3dVJIWFNlQjcyck1GMmtlNE9kS3FGbmJLYUp6UHFYQ2RHV3hIblJxQW53NUJ3NXZlc000eGdaUlBTVi04bEdBX3FyQnVvWU1KejFsaEpQeWMzUkVjLVpDdExZb1VIVWNncUtR?oc=5\n"
          ]
        },
        {
          "name": "stderr",
          "output_type": "stream",
          "text": [
            "Device set to use cpu\n",
            "No model was supplied, defaulted to distilbert/distilbert-base-uncased-finetuned-sst-2-english and revision 714eb0f (https://huggingface.co/distilbert/distilbert-base-uncased-finetuned-sst-2-english).\n",
            "Using a pipeline without specifying a model name and revision in production is not recommended.\n",
            "Device set to use cpu\n",
            "Device set to use cpu\n",
            "Setting `pad_token_id` to `eos_token_id`:50256 for open-end generation.\n"
          ]
        },
        {
          "name": "stdout",
          "output_type": "stream",
          "text": [
            "📝 AI Summary: Salt Lake City ranks among the worst for air quality in the United States. Salt Lake City's air quality is one of the worst in the U.S., according to ABC4.com. The city has a history of poor air quality, including in the 1980s and 1990s. In the 1990s, the air quality was considered to be the best in the country. It has improved in recent years, but still isn't great, according to the ABC4 report. For more information, go to www.ABC4. com.\n",
            "📊 Sentiment Analysis: NEGATIVE (Confidence: 1.00)\n",
            "🔥 AI-Generated Headline: Salt Lake City ranks among the worst for air quality in the United States - ABC4.com reported. There are no confirmed deaths from influenza or from non-H1N1 symptoms to many cases, including a number of deaths associated with respiratory allergies and others associated with allergies to poultry. Air quality is still improving across the country, though,\n"
          ]
        }
      ],
      "source": [
        "!pip install feedparser transformers\n",
        "\n",
        "import feedparser\n",
        "from transformers import pipeline\n",
        "\n",
        "# Function to fetch AQI-related news using Google News RSS\n",
        "def get_air_quality_news():\n",
        "    rss_url = \"https://news.google.com/rss/search?q=air+quality+AQI+USA&hl=en-US&gl=US&ceid=US:en\"\n",
        "    feed = feedparser.parse(rss_url)\n",
        "\n",
        "    articles = []\n",
        "    for entry in feed.entries[:5]:  # Fetch top 5 articles\n",
        "        title = entry.title\n",
        "        link = entry.link\n",
        "        description = entry.summary if \"summary\" in entry else \"\"  # Some feeds have descriptions, some don’t\n",
        "\n",
        "        articles.append({\"title\": title, \"description\": description, \"link\": link})\n",
        "\n",
        "    return articles\n",
        "\n",
        "# Function to summarize text using a local AI model\n",
        "def summarize_text(text):\n",
        "    summarizer = pipeline(\"summarization\", model=\"facebook/bart-large-cnn\")\n",
        "    return summarizer(text, max_length=250, min_length=100, do_sample=True)[0]['summary_text']\n",
        "\n",
        "# Function for sentiment analysis (Positive, Neutral, Negative)\n",
        "def analyze_sentiment(text):\n",
        "    sentiment_analyzer = pipeline(\"sentiment-analysis\")\n",
        "    result = sentiment_analyzer(text)[0]\n",
        "    return f\"{result['label']} (Confidence: {result['score']:.2f})\"\n",
        "\n",
        "# Function to generate clickbait AI headline\n",
        "def generate_headline(original_title):\n",
        "    headline_generator = pipeline(\"text-generation\", model=\"gpt2\")\n",
        "\n",
        "    # Set max_new_tokens to a reasonable value to generate longer headlines\n",
        "    new_headline = headline_generator(original_title, max_new_tokens=50, num_return_sequences=1)[0][\"generated_text\"]\n",
        "    return new_headline.strip()\n",
        "\n",
        "# Main script execution\n",
        "if __name__ == \"__main__\":\n",
        "    articles = get_air_quality_news()\n",
        "\n",
        "    for idx, article in enumerate(articles):\n",
        "        print(f\"\\n🔹 {article['title']}\")\n",
        "        print(f\"🔗 {article['link']}\")\n",
        "\n",
        "        # Summarize using AI\n",
        "        text_to_summarize = article['description'] if article['description'] else article['title']\n",
        "        summary = summarize_text(text_to_summarize)\n",
        "\n",
        "        # Sentiment analysis\n",
        "        sentiment = analyze_sentiment(summary)\n",
        "\n",
        "        # Generate clickbait headline\n",
        "        new_title = generate_headline(article['title'])\n",
        "\n",
        "        # Output results\n",
        "        print(f\"📝 AI Summary: {summary}\")\n",
        "        print(f\"📊 Sentiment Analysis: {sentiment}\")\n",
        "        print(f\"🔥 AI-Generated Headline: {new_title}\")"
      ]
    }
  ],
  "metadata": {
    "colab": {
      "provenance": []
    },
    "kernelspec": {
      "display_name": "Python 3",
      "name": "python3"
    },
    "language_info": {
      "name": "python"
    }
  },
  "nbformat": 4,
  "nbformat_minor": 0
}
