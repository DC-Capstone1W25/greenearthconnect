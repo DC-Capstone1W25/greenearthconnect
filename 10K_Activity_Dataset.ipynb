{
  "nbformat": 4,
  "nbformat_minor": 0,
  "metadata": {
    "colab": {
      "provenance": []
    },
    "kernelspec": {
      "name": "python3",
      "display_name": "Python 3"
    },
    "language_info": {
      "name": "python"
    }
  },
  "cells": [
    {
      "cell_type": "code",
      "execution_count": null,
      "metadata": {
        "colab": {
          "base_uri": "https://localhost:8080/"
        },
        "id": "Ih7yarRPZNto",
        "outputId": "0c5d1f7b-3306-41bf-ac7c-364c168096df"
      },
      "outputs": [
        {
          "output_type": "stream",
          "name": "stdout",
          "text": [
            "Drive already mounted at /content/drive; to attempt to forcibly remount, call drive.mount(\"/content/drive\", force_remount=True).\n",
            "Balanced dataset saved to: /content/drive/MyDrive/Colab Notebooks/Datasets/10K_Activity_Dataset.csv\n"
          ]
        }
      ],
      "source": [
        "import pandas as pd\n",
        "\n",
        "# Mount Google Drive\n",
        "from google.colab import drive\n",
        "drive.mount('/content/drive')\n",
        "\n",
        "# Define the file path in Google Drive\n",
        "file_path = \"/content/drive/MyDrive/Colab Notebooks/Datasets/FinalActivityDataset_Fahrenheit.csv\"\n",
        "\n",
        "# Load the dataset\n",
        "df = pd.read_csv(file_path)\n",
        "\n",
        "# Define the target distribution\n",
        "total_rows = 10000\n",
        "outdoor_ratio = 0.65\n",
        "stay_indoors_ratio = 0.35\n",
        "\n",
        "outdoor_target = int(total_rows * outdoor_ratio)  # 6500 rows\n",
        "stay_indoors_target = total_rows - outdoor_target  # 3500 rows\n",
        "\n",
        "# Separate the data into two categories\n",
        "outdoor_activities = df[df['Suggested_Activity'] != \"Stay indoors\"]\n",
        "stay_indoors_activities = df[df['Suggested_Activity'] == \"Stay indoors\"]\n",
        "\n",
        "# Sample the required number of rows\n",
        "outdoor_sample = outdoor_activities.sample(n=outdoor_target, random_state=42)\n",
        "stay_indoors_sample = stay_indoors_activities.sample(n=stay_indoors_target, random_state=42)\n",
        "\n",
        "# Combine the sampled data and shuffle\n",
        "balanced_df = pd.concat([outdoor_sample, stay_indoors_sample]).sample(frac=1, random_state=42)\n",
        "\n",
        "# Save the new dataset back to Google Drive\n",
        "output_filename = \"/content/drive/MyDrive/Colab Notebooks/Datasets/10K_Activity_Dataset.csv\"\n",
        "balanced_df.to_csv(output_filename, index=False)\n",
        "\n",
        "print(f\"Balanced dataset saved to: {output_filename}\")"
      ]
    }
  ]
}